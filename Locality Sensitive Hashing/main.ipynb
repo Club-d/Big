{
 "cells": [
  {
   "cell_type": "markdown",
   "id": "56a95009-665c-4bd5-a8da-4c375ae0b70b",
   "metadata": {
    "editable": true,
    "slideshow": {
     "slide_type": ""
    },
    "tags": []
   },
   "source": [
    "## Locality Sensitive Hashing\n",
    "#### Davy"
   ]
  },
  {
   "cell_type": "code",
   "execution_count": 1,
   "id": "36e7d600-f27b-4a78-b841-aed53e177830",
   "metadata": {},
   "outputs": [],
   "source": [
    "# Reload local python files every 2 seconds\n",
    "            \n",
    "%load_ext autoreload\n",
    "%autoreload 2"
   ]
  },
  {
   "cell_type": "code",
   "execution_count": 2,
   "id": "c21c161d-51c3-4e7f-9682-dbdaf11a1519",
   "metadata": {
    "editable": true,
    "raw_mimetype": "",
    "slideshow": {
     "slide_type": ""
    },
    "tags": []
   },
   "outputs": [],
   "source": [
    "import os\n",
    "import time\n",
    "\n",
    "import numpy as np\n",
    "import pandas as pd\n",
    "import random as rd\n",
    "import matplotlib.pyplot as plt\n",
    "\n",
    "from EstimatedJaccard import *\n",
    "from TrueJaccard import *\n",
    "\n",
    "\n",
    "from collections import Counter"
   ]
  },
  {
   "cell_type": "markdown",
   "id": "1234f67d-c135-48c0-a829-638ab81f88de",
   "metadata": {
    "editable": true,
    "slideshow": {
     "slide_type": ""
    },
    "tags": []
   },
   "source": [
    "### Section 1: Construct LSH Hash Tables for All News Article"
   ]
  },
  {
   "cell_type": "markdown",
   "id": "35f705b8-c7ee-4151-867a-bf62e7bb1027",
   "metadata": {
    "editable": true,
    "raw_mimetype": "",
    "slideshow": {
     "slide_type": ""
    },
    "tags": []
   },
   "source": [
    "####   (A)Load $bitvector\\_all.csv$. Construct a feature vector for each movie plot article in the dataset $(D)$. Please report the number of articles $(|D|)$ and the number of features $(n)$ for the loaded data."
   ]
  },
  {
   "cell_type": "code",
   "execution_count": 3,
   "id": "bd46bb43-0993-443d-ba7a-829744eb3b91",
   "metadata": {},
   "outputs": [
    {
     "name": "stdout",
     "output_type": "stream",
     "text": [
      "loading file now...\n"
     ]
    }
   ],
   "source": [
    "## read *.csv file in python environment\n",
    "path = \"bitvector_all_1gram.csv\"\n",
    "\n",
    "if os.path.exists(path):\n",
    "    print(\"loading file now...\")\n",
    "    bit = pd.read_csv(\"bitvector_all_1gram.csv\", header = None, sep='\\t')\n",
    "else:\n",
    "    print(\"The file does not exist.\")"
   ]
  },
  {
   "cell_type": "code",
   "execution_count": 4,
   "id": "3d632f4c-df6b-4db1-af77-c57045e448d9",
   "metadata": {},
   "outputs": [
    {
     "data": {
      "text/html": [
       "<div>\n",
       "<style scoped>\n",
       "    .dataframe tbody tr th:only-of-type {\n",
       "        vertical-align: middle;\n",
       "    }\n",
       "\n",
       "    .dataframe tbody tr th {\n",
       "        vertical-align: top;\n",
       "    }\n",
       "\n",
       "    .dataframe thead th {\n",
       "        text-align: right;\n",
       "    }\n",
       "</style>\n",
       "<table border=\"1\" class=\"dataframe\">\n",
       "  <thead>\n",
       "    <tr style=\"text-align: right;\">\n",
       "      <th></th>\n",
       "      <th>0</th>\n",
       "      <th>1</th>\n",
       "      <th>2</th>\n",
       "      <th>3</th>\n",
       "      <th>4</th>\n",
       "      <th>5</th>\n",
       "      <th>6</th>\n",
       "      <th>7</th>\n",
       "      <th>8</th>\n",
       "      <th>9</th>\n",
       "      <th>...</th>\n",
       "      <th>39220</th>\n",
       "      <th>39221</th>\n",
       "      <th>39222</th>\n",
       "      <th>39223</th>\n",
       "      <th>39224</th>\n",
       "      <th>39225</th>\n",
       "      <th>39226</th>\n",
       "      <th>39227</th>\n",
       "      <th>39228</th>\n",
       "      <th>39229</th>\n",
       "    </tr>\n",
       "  </thead>\n",
       "  <tbody>\n",
       "    <tr>\n",
       "      <th>0</th>\n",
       "      <td>1</td>\n",
       "      <td>0</td>\n",
       "      <td>0</td>\n",
       "      <td>0</td>\n",
       "      <td>0</td>\n",
       "      <td>0</td>\n",
       "      <td>0</td>\n",
       "      <td>0</td>\n",
       "      <td>0</td>\n",
       "      <td>0</td>\n",
       "      <td>...</td>\n",
       "      <td>0</td>\n",
       "      <td>0</td>\n",
       "      <td>0</td>\n",
       "      <td>0</td>\n",
       "      <td>0</td>\n",
       "      <td>0</td>\n",
       "      <td>0</td>\n",
       "      <td>0</td>\n",
       "      <td>0</td>\n",
       "      <td>western</td>\n",
       "    </tr>\n",
       "    <tr>\n",
       "      <th>1</th>\n",
       "      <td>2</td>\n",
       "      <td>0</td>\n",
       "      <td>0</td>\n",
       "      <td>0</td>\n",
       "      <td>0</td>\n",
       "      <td>0</td>\n",
       "      <td>0</td>\n",
       "      <td>0</td>\n",
       "      <td>0</td>\n",
       "      <td>0</td>\n",
       "      <td>...</td>\n",
       "      <td>0</td>\n",
       "      <td>0</td>\n",
       "      <td>0</td>\n",
       "      <td>0</td>\n",
       "      <td>0</td>\n",
       "      <td>0</td>\n",
       "      <td>0</td>\n",
       "      <td>0</td>\n",
       "      <td>0</td>\n",
       "      <td>short</td>\n",
       "    </tr>\n",
       "    <tr>\n",
       "      <th>2</th>\n",
       "      <td>3</td>\n",
       "      <td>0</td>\n",
       "      <td>0</td>\n",
       "      <td>0</td>\n",
       "      <td>0</td>\n",
       "      <td>0</td>\n",
       "      <td>0</td>\n",
       "      <td>0</td>\n",
       "      <td>0</td>\n",
       "      <td>0</td>\n",
       "      <td>...</td>\n",
       "      <td>0</td>\n",
       "      <td>0</td>\n",
       "      <td>0</td>\n",
       "      <td>0</td>\n",
       "      <td>0</td>\n",
       "      <td>0</td>\n",
       "      <td>0</td>\n",
       "      <td>0</td>\n",
       "      <td>0</td>\n",
       "      <td>biographical</td>\n",
       "    </tr>\n",
       "    <tr>\n",
       "      <th>3</th>\n",
       "      <td>4</td>\n",
       "      <td>0</td>\n",
       "      <td>0</td>\n",
       "      <td>0</td>\n",
       "      <td>0</td>\n",
       "      <td>0</td>\n",
       "      <td>0</td>\n",
       "      <td>0</td>\n",
       "      <td>0</td>\n",
       "      <td>0</td>\n",
       "      <td>...</td>\n",
       "      <td>0</td>\n",
       "      <td>0</td>\n",
       "      <td>0</td>\n",
       "      <td>0</td>\n",
       "      <td>0</td>\n",
       "      <td>0</td>\n",
       "      <td>0</td>\n",
       "      <td>0</td>\n",
       "      <td>0</td>\n",
       "      <td>comedy</td>\n",
       "    </tr>\n",
       "    <tr>\n",
       "      <th>4</th>\n",
       "      <td>5</td>\n",
       "      <td>0</td>\n",
       "      <td>0</td>\n",
       "      <td>0</td>\n",
       "      <td>0</td>\n",
       "      <td>0</td>\n",
       "      <td>0</td>\n",
       "      <td>0</td>\n",
       "      <td>0</td>\n",
       "      <td>0</td>\n",
       "      <td>...</td>\n",
       "      <td>0</td>\n",
       "      <td>0</td>\n",
       "      <td>0</td>\n",
       "      <td>0</td>\n",
       "      <td>0</td>\n",
       "      <td>0</td>\n",
       "      <td>0</td>\n",
       "      <td>0</td>\n",
       "      <td>0</td>\n",
       "      <td>drama</td>\n",
       "    </tr>\n",
       "    <tr>\n",
       "      <th>...</th>\n",
       "      <td>...</td>\n",
       "      <td>...</td>\n",
       "      <td>...</td>\n",
       "      <td>...</td>\n",
       "      <td>...</td>\n",
       "      <td>...</td>\n",
       "      <td>...</td>\n",
       "      <td>...</td>\n",
       "      <td>...</td>\n",
       "      <td>...</td>\n",
       "      <td>...</td>\n",
       "      <td>...</td>\n",
       "      <td>...</td>\n",
       "      <td>...</td>\n",
       "      <td>...</td>\n",
       "      <td>...</td>\n",
       "      <td>...</td>\n",
       "      <td>...</td>\n",
       "      <td>...</td>\n",
       "      <td>...</td>\n",
       "      <td>...</td>\n",
       "    </tr>\n",
       "    <tr>\n",
       "      <th>4995</th>\n",
       "      <td>4996</td>\n",
       "      <td>0</td>\n",
       "      <td>0</td>\n",
       "      <td>0</td>\n",
       "      <td>0</td>\n",
       "      <td>0</td>\n",
       "      <td>0</td>\n",
       "      <td>0</td>\n",
       "      <td>0</td>\n",
       "      <td>0</td>\n",
       "      <td>...</td>\n",
       "      <td>0</td>\n",
       "      <td>0</td>\n",
       "      <td>0</td>\n",
       "      <td>0</td>\n",
       "      <td>0</td>\n",
       "      <td>0</td>\n",
       "      <td>0</td>\n",
       "      <td>0</td>\n",
       "      <td>0</td>\n",
       "      <td>drama</td>\n",
       "    </tr>\n",
       "    <tr>\n",
       "      <th>4996</th>\n",
       "      <td>4997</td>\n",
       "      <td>0</td>\n",
       "      <td>0</td>\n",
       "      <td>0</td>\n",
       "      <td>0</td>\n",
       "      <td>0</td>\n",
       "      <td>0</td>\n",
       "      <td>0</td>\n",
       "      <td>0</td>\n",
       "      <td>0</td>\n",
       "      <td>...</td>\n",
       "      <td>0</td>\n",
       "      <td>0</td>\n",
       "      <td>0</td>\n",
       "      <td>0</td>\n",
       "      <td>0</td>\n",
       "      <td>0</td>\n",
       "      <td>0</td>\n",
       "      <td>0</td>\n",
       "      <td>0</td>\n",
       "      <td>drama</td>\n",
       "    </tr>\n",
       "    <tr>\n",
       "      <th>4997</th>\n",
       "      <td>4998</td>\n",
       "      <td>0</td>\n",
       "      <td>0</td>\n",
       "      <td>0</td>\n",
       "      <td>0</td>\n",
       "      <td>0</td>\n",
       "      <td>0</td>\n",
       "      <td>0</td>\n",
       "      <td>0</td>\n",
       "      <td>0</td>\n",
       "      <td>...</td>\n",
       "      <td>0</td>\n",
       "      <td>0</td>\n",
       "      <td>0</td>\n",
       "      <td>0</td>\n",
       "      <td>0</td>\n",
       "      <td>0</td>\n",
       "      <td>0</td>\n",
       "      <td>0</td>\n",
       "      <td>0</td>\n",
       "      <td>drama</td>\n",
       "    </tr>\n",
       "    <tr>\n",
       "      <th>4998</th>\n",
       "      <td>4999</td>\n",
       "      <td>0</td>\n",
       "      <td>0</td>\n",
       "      <td>0</td>\n",
       "      <td>0</td>\n",
       "      <td>0</td>\n",
       "      <td>0</td>\n",
       "      <td>0</td>\n",
       "      <td>0</td>\n",
       "      <td>0</td>\n",
       "      <td>...</td>\n",
       "      <td>0</td>\n",
       "      <td>0</td>\n",
       "      <td>0</td>\n",
       "      <td>0</td>\n",
       "      <td>0</td>\n",
       "      <td>0</td>\n",
       "      <td>0</td>\n",
       "      <td>0</td>\n",
       "      <td>0</td>\n",
       "      <td>comedy</td>\n",
       "    </tr>\n",
       "    <tr>\n",
       "      <th>4999</th>\n",
       "      <td>5000</td>\n",
       "      <td>0</td>\n",
       "      <td>0</td>\n",
       "      <td>0</td>\n",
       "      <td>0</td>\n",
       "      <td>0</td>\n",
       "      <td>0</td>\n",
       "      <td>0</td>\n",
       "      <td>0</td>\n",
       "      <td>0</td>\n",
       "      <td>...</td>\n",
       "      <td>0</td>\n",
       "      <td>0</td>\n",
       "      <td>0</td>\n",
       "      <td>0</td>\n",
       "      <td>0</td>\n",
       "      <td>0</td>\n",
       "      <td>0</td>\n",
       "      <td>0</td>\n",
       "      <td>0</td>\n",
       "      <td>crime</td>\n",
       "    </tr>\n",
       "  </tbody>\n",
       "</table>\n",
       "<p>5000 rows × 39230 columns</p>\n",
       "</div>"
      ],
      "text/plain": [
       "      0      1      2      3      4      5      6      7      8      9      \\\n",
       "0         1      0      0      0      0      0      0      0      0      0   \n",
       "1         2      0      0      0      0      0      0      0      0      0   \n",
       "2         3      0      0      0      0      0      0      0      0      0   \n",
       "3         4      0      0      0      0      0      0      0      0      0   \n",
       "4         5      0      0      0      0      0      0      0      0      0   \n",
       "...     ...    ...    ...    ...    ...    ...    ...    ...    ...    ...   \n",
       "4995   4996      0      0      0      0      0      0      0      0      0   \n",
       "4996   4997      0      0      0      0      0      0      0      0      0   \n",
       "4997   4998      0      0      0      0      0      0      0      0      0   \n",
       "4998   4999      0      0      0      0      0      0      0      0      0   \n",
       "4999   5000      0      0      0      0      0      0      0      0      0   \n",
       "\n",
       "      ...  39220  39221  39222  39223  39224  39225  39226  39227  39228  \\\n",
       "0     ...      0      0      0      0      0      0      0      0      0   \n",
       "1     ...      0      0      0      0      0      0      0      0      0   \n",
       "2     ...      0      0      0      0      0      0      0      0      0   \n",
       "3     ...      0      0      0      0      0      0      0      0      0   \n",
       "4     ...      0      0      0      0      0      0      0      0      0   \n",
       "...   ...    ...    ...    ...    ...    ...    ...    ...    ...    ...   \n",
       "4995  ...      0      0      0      0      0      0      0      0      0   \n",
       "4996  ...      0      0      0      0      0      0      0      0      0   \n",
       "4997  ...      0      0      0      0      0      0      0      0      0   \n",
       "4998  ...      0      0      0      0      0      0      0      0      0   \n",
       "4999  ...      0      0      0      0      0      0      0      0      0   \n",
       "\n",
       "             39229  \n",
       "0          western  \n",
       "1            short  \n",
       "2     biographical  \n",
       "3           comedy  \n",
       "4            drama  \n",
       "...            ...  \n",
       "4995         drama  \n",
       "4996         drama  \n",
       "4997         drama  \n",
       "4998        comedy  \n",
       "4999         crime  \n",
       "\n",
       "[5000 rows x 39230 columns]"
      ]
     },
     "execution_count": 4,
     "metadata": {},
     "output_type": "execute_result"
    }
   ],
   "source": [
    "## print the document and scan the data\n",
    "bit"
   ]
  },
  {
   "cell_type": "code",
   "execution_count": 5,
   "id": "5780063f-8eee-4461-af43-6fa6c8b9a699",
   "metadata": {},
   "outputs": [],
   "source": [
    "#derive document into 3 components, movie id as M_id, word_features into M_feature and movie_genre into M_gen \n",
    "bit = bit.to_numpy()\n",
    "\n",
    "M_id = bit[:,0]\n",
    "M_gen = bit[:,39229]\n",
    "M_feature= bit[:,1:39229]"
   ]
  },
  {
   "cell_type": "code",
   "execution_count": 6,
   "id": "da4b21c4-4caf-4483-8f42-9355896d609b",
   "metadata": {},
   "outputs": [
    {
     "name": "stdout",
     "output_type": "stream",
     "text": [
      "(5000, 39228)\n",
      "(5000,)\n",
      "(5000,)\n"
     ]
    }
   ],
   "source": [
    "## print the dimensionality of M_feature\n",
    "print(M_feature.shape)\n",
    "print(M_id.shape)\n",
    "print(M_gen.shape)\n",
    "\n",
    "n = M_feature.shape[1]\n",
    "D = M_feature.shape[0]"
   ]
  },
  {
   "cell_type": "code",
   "execution_count": 7,
   "id": "c47bb5f6-1a87-411b-8224-ca24acc7ba26",
   "metadata": {},
   "outputs": [
    {
     "data": {
      "text/plain": [
       "39228"
      ]
     },
     "execution_count": 7,
     "metadata": {},
     "output_type": "execute_result"
    }
   ],
   "source": [
    "n "
   ]
  },
  {
   "cell_type": "code",
   "execution_count": 8,
   "id": "96573109-8837-4d2c-b0fd-abb8d9ee58c7",
   "metadata": {},
   "outputs": [
    {
     "data": {
      "text/plain": [
       "5000"
      ]
     },
     "execution_count": 8,
     "metadata": {},
     "output_type": "execute_result"
    }
   ],
   "source": [
    "D"
   ]
  },
  {
   "cell_type": "markdown",
   "id": "3489f76e-4abf-4dc2-a606-0aa5d3cae014",
   "metadata": {},
   "source": [
    "From above code, we clearly identified the number of articles $|D|$ = 5,000 and the number of features $n$ = 39,228 "
   ]
  },
  {
   "cell_type": "markdown",
   "id": "be262c00-3906-4692-b371-d551ff1cd29f",
   "metadata": {},
   "source": [
    "####    (B) Construct a family of MinHash functions in the LSH family. You can choose a prime number, denoted as $p$, and coefficients $0 < a$, $b < p$. Let the tunable hash size $k$, and report the family of MinHash functions you have generated with $k ∈ {2, 4, 8, 16}$, respectively."
   ]
  },
  {
   "cell_type": "code",
   "execution_count": 9,
   "id": "1ab626b5-739c-4b2f-8fb4-10884f30f94b",
   "metadata": {},
   "outputs": [
    {
     "name": "stdout",
     "output_type": "stream",
     "text": [
      "when k = 2 ,the minHash function we generated are:\n",
      "\n",
      "((179459232 * x + 193936161) mod 325489421) mod 39228)\n",
      "((59586055 * x + 52931808) mod 325489421) mod 39228)\n",
      "\n",
      "\n",
      "when k = 4 ,the minHash function we generated are:\n",
      "\n",
      "((438037255 * x + 251266555) mod 663722677) mod 39228)\n",
      "((530588842 * x + 264860626) mod 663722677) mod 39228)\n",
      "((27451548 * x + 93197272) mod 663722677) mod 39228)\n",
      "((312364306 * x + 603609934) mod 663722677) mod 39228)\n",
      "\n",
      "\n",
      "when k = 8 ,the minHash function we generated are:\n",
      "\n",
      "((262606813 * x + 327518250) mod 401012987) mod 39228)\n",
      "((66501204 * x + 398983437) mod 401012987) mod 39228)\n",
      "((356397647 * x + 84014197) mod 401012987) mod 39228)\n",
      "((331798511 * x + 229311662) mod 401012987) mod 39228)\n",
      "((374712847 * x + 175745697) mod 401012987) mod 39228)\n",
      "((53863205 * x + 162741803) mod 401012987) mod 39228)\n",
      "((153197929 * x + 52128571) mod 401012987) mod 39228)\n",
      "((82811222 * x + 316182742) mod 401012987) mod 39228)\n",
      "\n",
      "\n",
      "when k = 16 ,the minHash function we generated are:\n",
      "\n",
      "((537144006 * x + 256341444) mod 942306829) mod 39228)\n",
      "((923724140 * x + 916971887) mod 942306829) mod 39228)\n",
      "((792229565 * x + 190577759) mod 942306829) mod 39228)\n",
      "((305957143 * x + 345330792) mod 942306829) mod 39228)\n",
      "((627632460 * x + 760244143) mod 942306829) mod 39228)\n",
      "((760146304 * x + 267535620) mod 942306829) mod 39228)\n",
      "((543968769 * x + 832202535) mod 942306829) mod 39228)\n",
      "((366918094 * x + 787631068) mod 942306829) mod 39228)\n",
      "((216066208 * x + 645919890) mod 942306829) mod 39228)\n",
      "((253107739 * x + 701480318) mod 942306829) mod 39228)\n",
      "((452299979 * x + 271814318) mod 942306829) mod 39228)\n",
      "((754045840 * x + 416763137) mod 942306829) mod 39228)\n",
      "((47516899 * x + 440505563) mod 942306829) mod 39228)\n",
      "((682604010 * x + 608646091) mod 942306829) mod 39228)\n",
      "((102754560 * x + 103420484) mod 942306829) mod 39228)\n",
      "((485986385 * x + 593395326) mod 942306829) mod 39228)\n",
      "\n",
      "\n"
     ]
    }
   ],
   "source": [
    "a_2,b_2,p_2 = MinHash( 2, n)\n",
    "a_4,b_4,p_4 = MinHash( 4, n)\n",
    "a_8,b_8,p_8 = MinHash( 8, n)\n",
    "a_16,b_16,p_16 = MinHash( 16, n)"
   ]
  },
  {
   "cell_type": "markdown",
   "id": "ed694643-dca7-4026-a40c-8f7900bcf592",
   "metadata": {},
   "source": [
    "\n",
    "\n",
    "####  (C) Construct LSH hash tables using your hash functions with bucket size $(m = 600)$ with $k = 2$. Report the data dimension of your signature matrix in terms of the number of rows, and the number of articles. \n"
   ]
  },
  {
   "cell_type": "code",
   "execution_count": 10,
   "id": "c6d4a889-5094-49d8-bc37-f41ece4c16cc",
   "metadata": {
    "tags": []
   },
   "outputs": [
    {
     "name": "stdout",
     "output_type": "stream",
     "text": [
      "The signature matrix has generated.\n"
     ]
    }
   ],
   "source": [
    "HValue = Simulated_Permutation(a_2,b_2,p_2, n, 2)\n",
    "sigMtrix = np.array(Signature_Matrix(M_feature, HValue, n,D))\n",
    "print('The signature matrix has generated.')\n"
   ]
  },
  {
   "cell_type": "markdown",
   "id": "443043dc-f286-403a-9e21-ca1204566ef3",
   "metadata": {},
   "source": [
    "####  (D) Please report the collision distribution of all articles hashed into $m$ buckets using a histogram plot, where the $x$-axis is $m = 600$ buckets, $y$-axis refers to the number of colliding articles. Please report the summation of articles across buckets and comment on your findings."
   ]
  },
  {
   "cell_type": "code",
   "execution_count": 11,
   "id": "473ddc5d-121a-41b6-b5cd-69b81bd4e404",
   "metadata": {
    "jp-MarkdownHeadingCollapsed": true,
    "scrolled": true
   },
   "outputs": [],
   "source": [
    "Hash = Hash_Table(sigMtrix, 600)"
   ]
  },
  {
   "cell_type": "code",
   "execution_count": 12,
   "id": "dd51ce01-a27f-4ad9-aba8-5d83cad1146d",
   "metadata": {},
   "outputs": [
    {
     "data": {
      "image/png": "[encoded data removed]",
      "text/plain": [
       "<Figure size 3000x500 with 1 Axes>"
      ]
     },
     "metadata": {},
     "output_type": "display_data"
    }
   ],
   "source": [
    "#plot the histogram and report the collision distribution of all articles.\n",
    "fig, ax = plt.subplots(figsize=(30, 5))\n",
    "\n",
    "keys = sorted(Hash.keys())\n",
    "counter = []\n",
    "for key, value in sorted(Hash.items()):\n",
    "    counter.append(len(value))\n",
    "\n",
    "plt.bar(range(len(counter)), counter, edgecolor='mediumpurple')\n",
    "\n",
    "plt.title('The collision distribution of all articles hashed into buckets ')\n",
    "plt.xlabel('The bucket number')\n",
    "plt.ylabel('The number of colliding articles')\n",
    "\n",
    "plt.show()"
   ]
  },
  {
   "cell_type": "code",
   "execution_count": 13,
   "id": "c503fc1d-75f9-4992-bdaa-2191bc865e25",
   "metadata": {},
   "outputs": [],
   "source": [
    "#Statistics analyst of distribution\n",
    "\n",
    "max_no = max(counter)\n",
    "max_ind = counter.index(max_no)\n",
    "\n",
    "min_no = min(counter)\n",
    "min_ind = counter.index(min_no)\n",
    "\n",
    "zeros = 600 - len(counter) \n",
    "\n",
    "most_common_value, max_count = Counter(counter).most_common(1)[0]"
   ]
  },
  {
   "cell_type": "code",
   "execution_count": 14,
   "id": "2879c9a3-717c-4012-87b6-4a02544364c1",
   "metadata": {},
   "outputs": [
    {
     "name": "stdout",
     "output_type": "stream",
     "text": [
      "The bucket number 51 has most articles 24\n",
      "The bucket number 262 has least articles 1\n",
      "In total, there are 1 buckets have 0 articles\n",
      "The bucket has 7 articles appearing most time; 88 buckets are in this situation\n"
     ]
    }
   ],
   "source": [
    "print(f'The bucket number {max_ind} has most articles {max_no}')\n",
    "print(f'The bucket number {min_ind} has least articles {min_no}')\n",
    "print(f'In total, there are {zeros} buckets have 0 articles')\n",
    "print(f'The bucket has {most_common_value} articles appearing most time; {max_count} buckets are in this situation')"
   ]
  },
  {
   "cell_type": "markdown",
   "id": "05a0724b-b9c9-481a-8762-0c4586b7e804",
   "metadata": {},
   "source": [
    "### Section 2： Nearest Neighbor Search"
   ]
  },
  {
   "cell_type": "markdown",
   "id": "c712bd77-5064-429a-9f98-46c2e9644f13",
   "metadata": {},
   "source": [
    "#### A) Query the LSH tables and return the top-5 articles that have the highest estimated Jaccard similarities as the answer. Consider articles with an article ID range from 4996 to 5000 as the query set $Q$ = {4996, 4997, 4998, 4999, 5000}. To compute the search results for each query document $q ∈ Q$ by following the steps: \n",
    "    \n",
    ">• **Step 1**: Find the set of articles $D_q$ that collide with $q ∈ Q$ in at least one hash table.\n",
    "\n",
    ">• **Step 2**: Compute the estimated Jaccard similarity between $q ∈ Q$ and each article in $D_q$, denoted as $\\hat{J}(d_i,q)$,where $d_i$ represents each article in the entire set of articles $D$.\n",
    "\n",
    ">• **Step 3**: Report the top-5 articles with the highest estimated Jaccard similarity for query $q ∈ Q$. Arrange the list in descending order based on estimated Jaccard similarity. You need to provide five lists in total for the search results, each corresponding to one query $q ∈ Q$. In each list, the article with the highest estimated Jaccard similarity should be ranked at 1. Each row of the list should follow the following format for each query $q ∈ Q$:\n",
    "                     \n",
    "                     movie_id <TAB> estimated_Jaccard_sim <TAB> movie_genre"
   ]
  },
  {
   "cell_type": "code",
   "execution_count": 15,
   "id": "ba7e5885-9b82-4b09-9fec-017e291e4fe8",
   "metadata": {},
   "outputs": [],
   "source": [
    "#derive the query document into 3 components, query id, query feature and query genre.\n",
    "Q_id = M_id[4995:5000]\n",
    "Q_feature = M_feature[4995:5000,] \n",
    "Q_gen = M_gen[4995:5000]"
   ]
  },
  {
   "cell_type": "code",
   "execution_count": 16,
   "id": "02a67b0b-f73c-47db-b489-8e6350b9a4d1",
   "metadata": {},
   "outputs": [
    {
     "name": "stdout",
     "output_type": "stream",
     "text": [
      "[4996 4997 4998 4999 5000]\n",
      "[[0 0 0 ... 0 0 0]\n",
      " [0 0 0 ... 0 0 0]\n",
      " [0 0 0 ... 0 0 0]\n",
      " [0 0 0 ... 0 0 0]\n",
      " [0 0 0 ... 0 0 0]]\n",
      "['drama' 'drama' 'drama' 'comedy' 'crime']\n"
     ]
    }
   ],
   "source": [
    "print(Q_id)\n",
    "print(Q_feature)\n",
    "print(Q_gen)"
   ]
  },
  {
   "cell_type": "code",
   "execution_count": 17,
   "id": "55354bad-8c45-4ba5-93a7-c6a87ffd00f9",
   "metadata": {},
   "outputs": [],
   "source": [
    "q = Q_feature.shape[0]\n",
    "n = Q_feature.shape[1]"
   ]
  },
  {
   "cell_type": "code",
   "execution_count": 18,
   "id": "812b737f-f3c2-4dfe-a259-3035fb5a9888",
   "metadata": {},
   "outputs": [],
   "source": [
    "R_ID = HST_Search(Hash, Q_id )"
   ]
  },
  {
   "cell_type": "code",
   "execution_count": 19,
   "id": "93f82d8e-3edc-4389-9ea7-57c98ef97b35",
   "metadata": {},
   "outputs": [
    {
     "name": "stdout",
     "output_type": "stream",
     "text": [
      "The bucket ID is 479 and the collision articles are [171, 995, 1052, 1063, 1204, 2038, 2159, 2521, 3083, 3089, 3637, 4361, 4996]\n",
      "The bucket ID is 70 and the collision articles are [217, 994, 1041, 1135, 1185, 3053, 3400, 4549, 4973, 4997]\n",
      "The bucket ID is 84 and the collision articles are [1166, 1748, 2366, 2405, 2423, 2715, 3176, 4777, 4998]\n",
      "The bucket ID is 434 and the collision articles are [976, 1165, 2815, 4729, 4797, 4872, 4999]\n",
      "The bucket ID is 171 and the collision articles are [482, 651, 861, 904, 1176, 1232, 1333, 2613, 2954, 3462, 5000]\n"
     ]
    }
   ],
   "source": [
    "for key,value in R_ID.items():   \n",
    "    ID = [x + 1 for x in value ]\n",
    "    print(f'The bucket ID is {key} and the collision articles are {ID}')"
   ]
  },
  {
   "cell_type": "code",
   "execution_count": 20,
   "id": "c111017d-28f6-44fc-afd7-bc556f8800a6",
   "metadata": {},
   "outputs": [],
   "source": [
    "Allind = list(R_ID.values())\n",
    "C_sig = [row[ :-1 ] for row in Allind]\n",
    "\n",
    "E_4996 = Estimated_Jaccard_Similarity(sigMtrix[:, 4995],sigMtrix[:,C_sig[0]])\n",
    "E_4997 = Estimated_Jaccard_Similarity(sigMtrix[:, 4996],sigMtrix[:,C_sig[1]])\n",
    "E_4998 = Estimated_Jaccard_Similarity(sigMtrix[:, 4997],sigMtrix[:,C_sig[2]])\n",
    "E_4999 = Estimated_Jaccard_Similarity(sigMtrix[:, 4998],sigMtrix[:,C_sig[3]])\n",
    "E_5000 = Estimated_Jaccard_Similarity(sigMtrix[:, 4999],sigMtrix[:,C_sig[4]])"
   ]
  },
  {
   "cell_type": "code",
   "execution_count": 21,
   "id": "2a724f5d-ecf1-4d9d-918b-54438fd3f7ff",
   "metadata": {
    "scrolled": true
   },
   "outputs": [
    {
     "name": "stdout",
     "output_type": "stream",
     "text": [
      "The estimated jaccard similarity for 4996 is: \n",
      " [0.0, 0.0, 0.0, 1.0, 0.0, 0.0, 0.0, 0.0, 0.0, 0.0, 0.0, 0.0]\n",
      "\n",
      "The estimated jaccard similarity for 4997 is: \n",
      " [0.0, 0.0, 0.0, 0.0, 0.0, 0.0, 0.0, 0.0, 0.0]\n",
      "\n",
      "The estimated jaccard similarity for 4998 is: \n",
      " [0.0, 0.0, 0.0, 0.0, 0.0, 0.0, 0.0, 0.0]\n",
      "\n",
      "The estimated jaccard similarity for 4999 is: \n",
      " [0.0, 0.0, 0.0, 0.5, 0.0, 0.0]\n",
      "\n",
      "The estimated jaccard similarity for 5000 is: \n",
      " [0.0, 0.0, 0.0, 0.0, 0.0, 0.0, 0.0, 0.0, 0.0, 0.0]\n",
      "\n"
     ]
    }
   ],
   "source": [
    "print(f'The estimated jaccard similarity for {Q_id[0]} is: \\n {E_4996}\\n')\n",
    "print(f'The estimated jaccard similarity for {Q_id[1]} is: \\n {E_4997}\\n')\n",
    "print(f'The estimated jaccard similarity for {Q_id[2]} is: \\n {E_4998}\\n')\n",
    "print(f'The estimated jaccard similarity for {Q_id[3]} is: \\n {E_4999}\\n')\n",
    "print(f'The estimated jaccard similarity for {Q_id[4]} is: \\n {E_5000}\\n')"
   ]
  },
  {
   "cell_type": "code",
   "execution_count": 22,
   "id": "24d74966-f2eb-4b9a-a65d-e8d88e999e0a",
   "metadata": {},
   "outputs": [],
   "source": [
    "def Sorting(Score, ID): #list 1: estimated/true jaccard similarity list2: article ID\n",
    "    combined_list = list(zip(Score, ID))\n",
    "\n",
    "    #Articles in descending order of similarity. \n",
    "    #If the same level of similarity, then the articles will be in ascending of articles id.\n",
    "    sorted_list = sorted(combined_list,key = lambda x: (-x[0], x[1]))\n",
    "\n",
    "    return sorted_list"
   ]
  },
  {
   "cell_type": "code",
   "execution_count": 23,
   "id": "ba6659cd-e3c2-4476-971e-e2587371651b",
   "metadata": {},
   "outputs": [],
   "source": [
    "list_4996 = Sorting(E_4996 , [x + 1 for x in C_sig[0]])\n",
    "list_4997 = Sorting(E_4997 , [x + 1 for x in C_sig[1]])\n",
    "list_4998 = Sorting(E_4998 , [x + 1 for x in C_sig[2]])\n",
    "list_4999 = Sorting(E_4999 , [x + 1 for x in C_sig[3]])\n",
    "list_5000 = Sorting(E_5000 , [x + 1 for x in C_sig[4]])"
   ]
  },
  {
   "cell_type": "code",
   "execution_count": 24,
   "id": "3f6441ce-28a0-417b-8081-7826a369d284",
   "metadata": {
    "scrolled": true
   },
   "outputs": [
    {
     "name": "stdout",
     "output_type": "stream",
     "text": [
      "The top-5 estimated jaccard similarity for 4996 is: \n",
      " [(1.0, 1063), (0.0, 171), (0.0, 995), (0.0, 1052), (0.0, 1204)]\n",
      "\n",
      "The top-5 estimated jaccard similarity for 4997 is: \n",
      " [(0.0, 217), (0.0, 994), (0.0, 1041), (0.0, 1135), (0.0, 1185)]\n",
      "\n",
      "The top-5 estimated jaccard similarity for 4998 is: \n",
      " [(0.0, 1166), (0.0, 1748), (0.0, 2366), (0.0, 2405), (0.0, 2423)]\n",
      "\n",
      "The top-5 estimated jaccard similarity for 4999 is: \n",
      " [(0.5, 4729), (0.0, 976), (0.0, 1165), (0.0, 2815), (0.0, 4797)]\n",
      "\n",
      "The top-5 estimated jaccard similarity for 5000 is: \n",
      " [(0.0, 482), (0.0, 651), (0.0, 861), (0.0, 904), (0.0, 1176)]\n",
      "\n"
     ]
    }
   ],
   "source": [
    "#select top-5 similarity score from every query\n",
    "print(f'The top-5 estimated jaccard similarity for {Q_id[0]} is: \\n {list_4996[:5]}\\n')\n",
    "print(f'The top-5 estimated jaccard similarity for {Q_id[1]} is: \\n {list_4997[:5]}\\n')\n",
    "print(f'The top-5 estimated jaccard similarity for {Q_id[2]} is: \\n {list_4998[:5]}\\n')\n",
    "print(f'The top-5 estimated jaccard similarity for {Q_id[3]} is: \\n {list_4999[:5]}\\n')\n",
    "print(f'The top-5 estimated jaccard similarity for {Q_id[4]} is: \\n {list_5000[:5]}\\n')"
   ]
  },
  {
   "cell_type": "code",
   "execution_count": 25,
   "id": "ccc3a281-28d4-4419-b9de-8eae1c6be3e2",
   "metadata": {},
   "outputs": [],
   "source": [
    "def Reformat(query_id,Jaccard_sim,movie_genre):\n",
    "    #query_id \" query article id, Jaccard_sim:true / estimated jaccard similarity matrix ,movie_genre: the whole movie genre list\n",
    "\n",
    "    print(f'The top-5 articles with highest jaccard similarity for {query_id} are :')\n",
    "\n",
    "    ETS_similar = []\n",
    "    for t in Jaccard_sim:\n",
    "        movie = []\n",
    "\n",
    "        #Articles id\n",
    "        movie.append(str(t[1]))\n",
    "\n",
    "        #Articles true/estimated jaccard similarity\n",
    "        movie.append(str(t[0]))\n",
    "\n",
    "        #Articles genre \n",
    "        movie.append(movie_genre[t[1] - 1])\n",
    "\n",
    "        #Apply the separator as <tab>\n",
    "        movie = \"\\t\".join(movie)\n",
    "        print(movie)\n",
    "        ETS_similar.append(movie)\n",
    "\n",
    "    print('\\n')\n",
    "    return ETS_similar       "
   ]
  },
  {
   "cell_type": "code",
   "execution_count": 26,
   "id": "6661a4ae-7838-444b-aea7-15969fe24fc0",
   "metadata": {},
   "outputs": [
    {
     "name": "stdout",
     "output_type": "stream",
     "text": [
      "The top-5 articles with highest jaccard similarity for 4996 are :\n",
      "1063\t1.0\tserial\n",
      "171\t0.0\tcomedy drama\n",
      "995\t0.0\tromance\n",
      "1052\t0.0\twar\n",
      "1204\t0.0\tserial\n",
      "\n",
      "\n",
      "The top-5 articles with highest jaccard similarity for 4997 are :\n",
      "217\t0.0\twestern\n",
      "994\t0.0\tcomedy\n",
      "1041\t0.0\tcomedy thriller\n",
      "1135\t0.0\twestern\n",
      "1185\t0.0\tromance\n",
      "\n",
      "\n",
      "The top-5 articles with highest jaccard similarity for 4998 are :\n",
      "1166\t0.0\tcomedy\n",
      "1748\t0.0\tserial\n",
      "2366\t0.0\tdrama\n",
      "2405\t0.0\tdrama\n",
      "2423\t0.0\tdrama\n",
      "\n",
      "\n",
      "The top-5 articles with highest jaccard similarity for 4999 are :\n",
      "4729\t0.5\tcomedy\n",
      "976\t0.0\tmusical\n",
      "1165\t0.0\tfilm noir\n",
      "2815\t0.0\tdrama\n",
      "4797\t0.0\tthriller\n",
      "\n",
      "\n",
      "The top-5 articles with highest jaccard similarity for 5000 are :\n",
      "482\t0.0\tmusical comedy\n",
      "651\t0.0\tcomedy, romance\n",
      "861\t0.0\tdrama\n",
      "904\t0.0\tdrama, adventure\n",
      "1176\t0.0\tmystery\n",
      "\n",
      "\n"
     ]
    }
   ],
   "source": [
    "ETS_4996 = Reformat(4996,list_4996[:5],M_gen)\n",
    "ETS_4997 = Reformat(4997,list_4997[:5],M_gen)\n",
    "ETS_4998 = Reformat(4998,list_4998[:5],M_gen)\n",
    "ETS_4999 = Reformat(4999,list_4999[:5],M_gen)\n",
    "ETS_5000 = Reformat(5000,list_5000[:5],M_gen)"
   ]
  },
  {
   "cell_type": "markdown",
   "id": "9d41c0b1-0dfa-4c9f-80d9-aadb767917fa",
   "metadata": {},
   "source": [
    "#### (B) Consider the same query set $Q$, compute true Jaccard similarity for query $q ∈ Q$ and all articles in the dataset $D$, i.e., $\\hat{J}(d_i,q)$ for each article $d_i ∈ D$. Please report the list of top-5 articles with the highest true Jaccard similarity in descending order for each article $q ∈ Q$. Each row of the list should follow the format for each query $q ∈ Q$:\n",
    "                       \n",
    "                           movie_id <TAB> Jaccard_sim <TAB> movie_genre"
   ]
  },
  {
   "cell_type": "code",
   "execution_count": 27,
   "id": "ff30a4ed-47c3-4c3c-855d-cea8e1b450b3",
   "metadata": {},
   "outputs": [],
   "source": [
    "T_4996 = True_Jaccard_Similarity(M_feature, 4995)\n",
    "T_4997 = True_Jaccard_Similarity(M_feature, 4996)\n",
    "T_4998 = True_Jaccard_Similarity(M_feature, 4997)\n",
    "T_4999 = True_Jaccard_Similarity(M_feature, 4998)\n",
    "T_5000 = True_Jaccard_Similarity(M_feature, 4999)"
   ]
  },
  {
   "cell_type": "code",
   "execution_count": 28,
   "id": "20f9fce9-88ee-48c2-9358-61359710b423",
   "metadata": {},
   "outputs": [],
   "source": [
    "list2_4996 = Sorting(T_4996 ,np.delete(M_id, 4995))\n",
    "list2_4997 = Sorting(T_4997 ,np.delete(M_id, 4996))\n",
    "list2_4998 = Sorting(T_4998 ,np.delete(M_id, 4997))\n",
    "list2_4999 = Sorting(T_4999 ,np.delete(M_id, 4998))\n",
    "list2_5000 = Sorting(T_5000 ,np.delete(M_id, 4999))"
   ]
  },
  {
   "cell_type": "code",
   "execution_count": 29,
   "id": "43bc4861-97f5-4906-8b42-60229e842eeb",
   "metadata": {},
   "outputs": [
    {
     "name": "stdout",
     "output_type": "stream",
     "text": [
      "The top-5 true jaccard similarity for 4996 is: \n",
      " [(0.0632, 4566), (0.0601, 1689), (0.0591, 2441), (0.0588, 4681), (0.0583, 1008)]\n",
      "\n",
      "The top-5 true jaccard similarity for 4997 is: \n",
      " [(0.0791, 2656), (0.0784, 2551), (0.0777, 200), (0.0753, 3212), (0.0687, 2774)]\n",
      "\n",
      "The top-5 true jaccard similarity for 4998 is: \n",
      " [(0.0625, 4465), (0.0581, 3232), (0.0576, 1684), (0.0543, 114), (0.0538, 4989)]\n",
      "\n",
      "The top-5 true jaccard similarity for 4999 is: \n",
      " [(0.0581, 412), (0.0574, 4997), (0.0526, 200), (0.0519, 951), (0.0519, 1480)]\n",
      "\n",
      "The top-5 true jaccard similarity for 5000 is: \n",
      " [(0.0631, 1096), (0.0541, 3371), (0.0483, 3917), (0.0473, 1658), (0.0469, 3482)]\n",
      "\n"
     ]
    }
   ],
   "source": [
    "#select top-5 similarity score from every query\n",
    "print(f'The top-5 true jaccard similarity for {Q_id[0]} is: \\n {list2_4996[:5]}\\n')\n",
    "print(f'The top-5 true jaccard similarity for {Q_id[1]} is: \\n {list2_4997[:5]}\\n')\n",
    "print(f'The top-5 true jaccard similarity for {Q_id[2]} is: \\n {list2_4998[:5]}\\n')\n",
    "print(f'The top-5 true jaccard similarity for {Q_id[3]} is: \\n {list2_4999[:5]}\\n')\n",
    "print(f'The top-5 true jaccard similarity for {Q_id[4]} is: \\n {list2_5000[:5]}\\n')"
   ]
  },
  {
   "cell_type": "code",
   "execution_count": 30,
   "id": "9f39ec41-f09f-4f6a-906e-2c877df9562e",
   "metadata": {},
   "outputs": [
    {
     "name": "stdout",
     "output_type": "stream",
     "text": [
      "The top-5 articles with highest jaccard similarity for 4996 are :\n",
      "4566\t0.0632\tcrime\n",
      "1689\t0.0601\tfilm noir\n",
      "2441\t0.0591\tcrime\n",
      "4681\t0.0588\tdrama\n",
      "1008\t0.0583\tcrime\n",
      "\n",
      "\n",
      "The top-5 articles with highest jaccard similarity for 4997 are :\n",
      "2656\t0.0791\tdrama\n",
      "2551\t0.0784\tdrama\n",
      "200\t0.0777\tdrama\n",
      "3212\t0.0753\tcomedy\n",
      "2774\t0.0687\tcomedy\n",
      "\n",
      "\n",
      "The top-5 articles with highest jaccard similarity for 4998 are :\n",
      "4465\t0.0625\tdrama\n",
      "3232\t0.0581\twestern\n",
      "1684\t0.0576\tfilm noir\n",
      "114\t0.0543\tcomedy\n",
      "4989\t0.0538\tcomedy\n",
      "\n",
      "\n",
      "The top-5 articles with highest jaccard similarity for 4999 are :\n",
      "412\t0.0581\tcomedy\n",
      "4997\t0.0574\tdrama\n",
      "200\t0.0526\tdrama\n",
      "951\t0.0519\tmystery\n",
      "1480\t0.0519\tcomedy\n",
      "\n",
      "\n",
      "The top-5 articles with highest jaccard similarity for 5000 are :\n",
      "1096\t0.0631\tserial\n",
      "3371\t0.0541\tcomedy\n",
      "3917\t0.0483\tscience fiction\n",
      "1658\t0.0473\tfilm noir\n",
      "3482\t0.0469\tcomedy\n",
      "\n",
      "\n"
     ]
    }
   ],
   "source": [
    "TRU_4996 = Reformat(4996,list2_4996[:5],M_gen)\n",
    "TRU_4997 = Reformat(4997,list2_4997[:5],M_gen)\n",
    "TRU_4998 = Reformat(4998,list2_4998[:5],M_gen)\n",
    "TRU_4999 = Reformat(4999,list2_4999[:5],M_gen)\n",
    "TRU_5000 = Reformat(5000,list2_5000[:5],M_gen)"
   ]
  },
  {
   "cell_type": "markdown",
   "id": "4bb96bfc-7842-4a55-9787-73eecd97e41b",
   "metadata": {},
   "source": [
    "### Section 3:Estimation Quality and Efficiency"
   ]
  },
  {
   "cell_type": "markdown",
   "id": "51dfacc5-8c16-4a79-9622-25ccadeafb5e",
   "metadata": {},
   "source": [
    "#### (A) Investigate the impact of the hash size $k ∈ \\{2, 4, 8, 16\\}$ on the estimated Jaccard similarity estimation. Consider articles with an article ID range from 4001 to 5000 as the query set $Q$. For each value of hash size $k$, compute the mean absolute error (MAE) for the pairs of articles $(d_i, q)$, where $1 ≤ i ≤ |D|$ and $q ∈ Q$. Please plot the MAE of MinHash estimator on different values of $k$. In particular, MAEs with different values of $k$ on $x$-axis (i.e., 2, 4, 8, 16) and MAE values on $y$-axis. The MAE is defined as follows.\n",
    "\n",
    "<center>MAE = $ \\frac{\\sum_{q\\in Q}\\  \\sum^{|D|}_{i=1}\\  |J(d_i,q)\\ -\\ \\hat{J}(d_i,q)|}{|Q|\\ \\times \\ |D|}$</center>\n"
   ]
  },
  {
   "cell_type": "code",
   "execution_count": 31,
   "id": "efb3d587-3869-44a8-8027-1afd34652360",
   "metadata": {
    "editable": true,
    "slideshow": {
     "slide_type": ""
    },
    "tags": []
   },
   "outputs": [],
   "source": [
    "def Mean_Absolute_Error(ets_jaccard, true_jaccard): #ets_jaccard: estimated jaccard matrix, true_jaccard: true jaccard matrix\n",
    "\n",
    "    mae = 0 \n",
    "\n",
    "    #calculte the mean absolute error for the corresponding the estimated jaccard similarity of k size signature matrix \n",
    "    result_list = [abs(ets_jaccard[i] - true_jaccard[i] ) for i in range(len(true_jaccard))]\n",
    "    \n",
    "    mae = sum(result_list)\n",
    "\n",
    "    return mae"
   ]
  },
  {
   "cell_type": "code",
   "execution_count": 32,
   "id": "6d49a92d-39e5-4173-bef2-86b3f05eb3d8",
   "metadata": {},
   "outputs": [
    {
     "name": "stdout",
     "output_type": "stream",
     "text": [
      "when k = 2 ,the minHash function we generated are:\n",
      "\n",
      "((52303693 * x + 146983796) mod 907747033) mod 39228)\n",
      "((889008031 * x + 563640350) mod 907747033) mod 39228)\n",
      "\n",
      "\n",
      "The signature matrix has generated successfully when k = 2.\n",
      "\n",
      "We are calculating the estimated jaccard similarity, when k = 2 ...\n",
      "\n",
      "The estimated jaccard similarity calculation has finished.\n",
      "\n"
     ]
    }
   ],
   "source": [
    "start_2 = time.time()\n",
    "\n",
    "a_2,b_2,p_2 = MinHash( 2, n)\n",
    "HValue_2 = Simulated_Permutation(a_2,b_2,p_2, n, 2)\n",
    "sigMtrix_2 = np.array(Signature_Matrix(M_feature, HValue_2, n,D))\n",
    "print('The signature matrix has generated successfully when k = 2.\\n')\n",
    "\n",
    "Ek2_art_ID = []\n",
    "\n",
    "print('We are calculating the estimated jaccard similarity, when k = 2 ...\\n')\n",
    "for art_ID in range(4000,5000):\n",
    "   \n",
    "    sample2_ID = sigMtrix_2[:,art_ID]\n",
    "    group2_ID = np.delete(sigMtrix_2,art_ID,axis=1)\n",
    "    Ek2_art_ID.append( Estimated_Jaccard_Similarity(sample2_ID,group2_ID))\n",
    "\n",
    "print('The estimated jaccard similarity calculation has finished.\\n')\n",
    "\n",
    "end_2 = time.time()"
   ]
  },
  {
   "cell_type": "code",
   "execution_count": 33,
   "id": "ab092ae3-a1b9-49b9-9058-be28b2201a95",
   "metadata": {},
   "outputs": [
    {
     "name": "stdout",
     "output_type": "stream",
     "text": [
      "when k = 4 ,the minHash function we generated are:\n",
      "\n",
      "((287976753 * x + 131266746) mod 592132939) mod 39228)\n",
      "((424951280 * x + 574417588) mod 592132939) mod 39228)\n",
      "((122904244 * x + 238189813) mod 592132939) mod 39228)\n",
      "((89652126 * x + 531820650) mod 592132939) mod 39228)\n",
      "\n",
      "\n",
      "The signature matrix has generated successfully when k = 4.\n",
      "\n",
      "We are calculating the estimated jaccard similarity, when k = 4 ...\n",
      "\n",
      "The estimated jaccard similarity calculation has finished.\n",
      "\n"
     ]
    }
   ],
   "source": [
    "start_4 = time.time()\n",
    "\n",
    "a_4,b_4,p_4 = MinHash( 4, n)\n",
    "HValue_4 = Simulated_Permutation(a_4,b_4,p_4, n, 4)\n",
    "sigMtrix_4 = np.array(Signature_Matrix(M_feature, HValue_4, n,D))\n",
    "print('The signature matrix has generated successfully when k = 4.\\n')\n",
    "\n",
    "Ek4_art_ID = []\n",
    "\n",
    "print('We are calculating the estimated jaccard similarity, when k = 4 ...\\n')\n",
    "for art_ID in range(4000,5000):\n",
    "   \n",
    "    sample4_ID = sigMtrix_4[:,art_ID]\n",
    "    group4_ID = np.delete(sigMtrix_4,art_ID,axis=1)\n",
    "    Ek4_art_ID.append( Estimated_Jaccard_Similarity(sample4_ID,group4_ID))\n",
    "\n",
    "print('The estimated jaccard similarity calculation has finished.\\n')\n",
    "\n",
    "end_4 = time.time()"
   ]
  },
  {
   "cell_type": "code",
   "execution_count": 34,
   "id": "abe34a3c-0c14-4b9d-8096-3fa1c5436b8d",
   "metadata": {},
   "outputs": [
    {
     "name": "stdout",
     "output_type": "stream",
     "text": [
      "when k = 8 ,the minHash function we generated are:\n",
      "\n",
      "((491478668 * x + 333313723) mod 665218661) mod 39228)\n",
      "((74363632 * x + 178211087) mod 665218661) mod 39228)\n",
      "((196614448 * x + 220637743) mod 665218661) mod 39228)\n",
      "((138973372 * x + 649208305) mod 665218661) mod 39228)\n",
      "((647574997 * x + 401403282) mod 665218661) mod 39228)\n",
      "((93587059 * x + 575722036) mod 665218661) mod 39228)\n",
      "((12231470 * x + 240648046) mod 665218661) mod 39228)\n",
      "((58332696 * x + 340876224) mod 665218661) mod 39228)\n",
      "\n",
      "\n",
      "The signature matrix has generated successfully when k = 8.\n",
      "\n",
      "We are calculating the estimated jaccard similarity, when k = 8 ...\n",
      "\n",
      "The estimated jaccard similarity calculation has finished.\n",
      "\n"
     ]
    }
   ],
   "source": [
    "start_8 = time.time()\n",
    "\n",
    "a_8,b_8,p_8 = MinHash( 8, n)\n",
    "HValue_8 = Simulated_Permutation(a_8,b_8,p_8, n, 8)\n",
    "sigMtrix_8 = np.array(Signature_Matrix(M_feature, HValue_8, n,D))\n",
    "print('The signature matrix has generated successfully when k = 8.\\n')\n",
    "\n",
    "Ek8_art_ID = []\n",
    "\n",
    "print('We are calculating the estimated jaccard similarity, when k = 8 ...\\n')\n",
    "for art_ID in range(4000,5000):\n",
    "   \n",
    "    sample8_ID = sigMtrix_8[:,art_ID]\n",
    "    group8_ID = np.delete(sigMtrix_8,art_ID,axis=1)\n",
    "    Ek8_art_ID.append( Estimated_Jaccard_Similarity(sample8_ID,group8_ID))\n",
    "\n",
    "print('The estimated jaccard similarity calculation has finished.\\n')\n",
    "\n",
    "end_8 = time.time()"
   ]
  },
  {
   "cell_type": "code",
   "execution_count": 35,
   "id": "6387d674-4dc9-4dab-9e13-e1b11a209256",
   "metadata": {},
   "outputs": [
    {
     "name": "stdout",
     "output_type": "stream",
     "text": [
      "when k = 16 ,the minHash function we generated are:\n",
      "\n",
      "((149380651 * x + 66041847) mod 453371363) mod 39228)\n",
      "((437386789 * x + 363647357) mod 453371363) mod 39228)\n",
      "((228979542 * x + 432405341) mod 453371363) mod 39228)\n",
      "((327887303 * x + 58222385) mod 453371363) mod 39228)\n",
      "((268857787 * x + 46797054) mod 453371363) mod 39228)\n",
      "((44521018 * x + 103657316) mod 453371363) mod 39228)\n",
      "((80312808 * x + 312059547) mod 453371363) mod 39228)\n",
      "((18906676 * x + 314985543) mod 453371363) mod 39228)\n",
      "((165370063 * x + 12408540) mod 453371363) mod 39228)\n",
      "((155305774 * x + 365810145) mod 453371363) mod 39228)\n",
      "((392291583 * x + 210995392) mod 453371363) mod 39228)\n",
      "((32104486 * x + 186169595) mod 453371363) mod 39228)\n",
      "((445664067 * x + 55415180) mod 453371363) mod 39228)\n",
      "((422558999 * x + 445988141) mod 453371363) mod 39228)\n",
      "((374292446 * x + 383232829) mod 453371363) mod 39228)\n",
      "((172048644 * x + 218900125) mod 453371363) mod 39228)\n",
      "\n",
      "\n",
      "The signature matrix has generated successfully when k = 16.\n",
      "\n",
      "We are calculating the estimated jaccard similarity, when k = 16 ...\n",
      "\n",
      "The estimated jaccard similarity calculation has finished.\n",
      "\n"
     ]
    }
   ],
   "source": [
    "start_16 = time.time()\n",
    "\n",
    "a_16,b_16,p_16 = MinHash( 16, n)\n",
    "HValue_16 = Simulated_Permutation(a_16,b_16,p_16, n, 16)\n",
    "sigMtrix_16 = np.array(Signature_Matrix(M_feature, HValue_16, n,D))\n",
    "print('The signature matrix has generated successfully when k = 16.\\n')\n",
    "\n",
    "Ek16_art_ID = []\n",
    "\n",
    "print('We are calculating the estimated jaccard similarity, when k = 16 ...\\n')\n",
    "for art_ID in range(4000,5000):\n",
    "   \n",
    "    sample16_ID = sigMtrix_16[:,art_ID]\n",
    "    group16_ID = np.delete(sigMtrix_16,art_ID,axis=1)\n",
    "    Ek16_art_ID.append( Estimated_Jaccard_Similarity(sample16_ID,group16_ID))\n",
    "print('The estimated jaccard similarity calculation has finished.\\n')\n",
    "\n",
    "end_16 = time.time()"
   ]
  },
  {
   "cell_type": "code",
   "execution_count": 36,
   "id": "5549167c-b2ce-4b22-94d1-3edca0bf4a5a",
   "metadata": {
    "scrolled": true
   },
   "outputs": [
    {
     "name": "stdout",
     "output_type": "stream",
     "text": [
      "We are calculating the true jaccard similarity...\n",
      "\n",
      "The true jaccard similarity calculation has finished.\n",
      "\n"
     ]
    }
   ],
   "source": [
    "start = time.time()\n",
    "\n",
    "Tk_art_ID = []\n",
    "\n",
    "print('We are calculating the true jaccard similarity...\\n')\n",
    "for art_IDX in range(4000,5000):\n",
    "    Tk_art_ID.append(True_Jaccard_Similarity(M_feature, art_IDX))\n",
    "\n",
    "print('The true jaccard similarity calculation has finished.\\n')\n",
    "\n",
    "end = time.time()\n"
   ]
  },
  {
   "cell_type": "code",
   "execution_count": 37,
   "id": "93931569-7625-4449-9231-f0facac08840",
   "metadata": {
    "scrolled": true
   },
   "outputs": [],
   "source": [
    "SUM_2 = []\n",
    "SUM_4 = []\n",
    "SUM_8 = []\n",
    "SUM_16 = []\n",
    "\n",
    "for i in range(0,1000):\n",
    "    SUM_2.append( Mean_Absolute_Error(Ek2_art_ID[i], Tk_art_ID[i]))\n",
    "    SUM_4.append( Mean_Absolute_Error(Ek4_art_ID[i], Tk_art_ID[i]))\n",
    "    SUM_8.append( Mean_Absolute_Error(Ek8_art_ID[i], Tk_art_ID[i]))\n",
    "    SUM_16.append( Mean_Absolute_Error(Ek16_art_ID[i], Tk_art_ID[i]))\n",
    "    "
   ]
  },
  {
   "cell_type": "code",
   "execution_count": 38,
   "id": "1dd18c66-17ef-4009-b1e8-e2f435058f84",
   "metadata": {},
   "outputs": [],
   "source": [
    "MAE_2 = sum(SUM_2) / (5000 * 1000)\n",
    "MAE_4 = sum(SUM_4) / (5000 * 1000)\n",
    "MAE_8 = sum(SUM_8) / (5000 * 1000)\n",
    "MAE_16 = sum(SUM_16) / (5000 * 1000)"
   ]
  },
  {
   "cell_type": "code",
   "execution_count": 39,
   "id": "e6803f00-b436-40eb-ba21-66fcf6346028",
   "metadata": {},
   "outputs": [],
   "source": [
    "y = []\n",
    "X = [2,4,8,16]\n",
    "\n",
    "y.append(MAE_2)\n",
    "y.append(MAE_4)\n",
    "y.append(MAE_8) \n",
    "y.append(MAE_16)"
   ]
  },
  {
   "cell_type": "code",
   "execution_count": 40,
   "id": "b96f7586-29e0-4861-a0a4-365cd6ad4da7",
   "metadata": {
    "editable": true,
    "slideshow": {
     "slide_type": ""
    },
    "tags": []
   },
   "outputs": [
    {
     "data": {
      "image/png": "[encoded data removed]",
      "text/plain": [
       "<Figure size 640x480 with 1 Axes>"
      ]
     },
     "metadata": {},
     "output_type": "display_data"
    }
   ],
   "source": [
    "plt.plot(X , y, marker ='o')\n",
    "\n",
    "labels = ['2','4','8','16']\n",
    "plt.xticks(X, labels)\n",
    "\n",
    "plt.title('The MAE on the impact of k. ')\n",
    "plt.xlabel('Hash size k')\n",
    "plt.ylabel('The MAE of MinHash estimator ')\n",
    "\n",
    "plt.show()"
   ]
  },
  {
   "cell_type": "markdown",
   "id": "53ba4b46-9a86-4fc4-a0f9-48502c390901",
   "metadata": {},
   "source": [
    "#### Comments: \n",
    "Under this random seed setting, while the size of Hash size k increases, the mean absolute errors decrease. The maximum MAE is more than 0.028 and the minimum MAE is less than 0.023 on average level. It is significant that size k of the hash function impacts the error rate.  "
   ]
  },
  {
   "cell_type": "markdown",
   "id": "0a10dc5d-d323-4aad-8be6-bb5834080b74",
   "metadata": {},
   "source": [
    "#### (B) Consider articles with an article ID range from 4001 to 5000 as the query set $Q$ with $k = 2$. Compare the query time in Question 2(A) and Question 2(B) on average across the query set $Q$ in milliseconds and comment on their differences (if any)."
   ]
  },
  {
   "cell_type": "code",
   "execution_count": 41,
   "id": "59b5c9b4-825e-4242-be96-c11b6e19b59a",
   "metadata": {},
   "outputs": [],
   "source": [
    "time_consuming_EK2 = end_2 - start_2\n",
    "time_consuming_EK4 = end_4 - start_4\n",
    "time_consuming_EK8 = end_8 - start_8\n",
    "time_consuming_EK16 = end_16 - start_16\n",
    "\n",
    "time_consuming_TK = end - start"
   ]
  },
  {
   "cell_type": "code",
   "execution_count": 42,
   "id": "1e44522b-36a1-4e0b-98f0-b5529c05cbeb",
   "metadata": {},
   "outputs": [],
   "source": [
    "query_size = (5000 - 4000) * 5000"
   ]
  },
  {
   "cell_type": "code",
   "execution_count": 43,
   "id": "101fae22-cc2d-4a73-b6f5-97d5b0947f21",
   "metadata": {},
   "outputs": [],
   "source": [
    "# The time consuming for true jaccard similarity was calculted in question 3(A) \n",
    "time_consuming_EK2_AVG = time_consuming_EK2 * 1000 / query_size\n",
    "time_consuming_EK4_AVG = time_consuming_EK4 * 1000 / query_size\n",
    "time_consuming_EK8_AVG = time_consuming_EK8 * 1000 / query_size\n",
    "time_consuming_EK16_AVG = time_consuming_EK16 * 1000 / query_size\n",
    "\n",
    "time_consuming_TK_AVG = time_consuming_TK * 1000 / query_size"
   ]
  },
  {
   "cell_type": "code",
   "execution_count": 44,
   "id": "f5e315ed-9b4b-4336-a6b7-c047b9bf630b",
   "metadata": {},
   "outputs": [
    {
     "name": "stdout",
     "output_type": "stream",
     "text": [
      "The query time on average across the query set about estimated jaccard similarity when k = 2 is 0.009 milliseconds.\n",
      "\n",
      "The query time on average across the query set about estimated jaccard similarity when k = 4 is 0.017 milliseconds.\n",
      "\n",
      "The query time on average across the query set about estimated jaccard similarity when k = 8 is 0.033 milliseconds.\n",
      "\n",
      "The query time on average across the query set about estimated jaccard similarity when k = 16 is 0.068 milliseconds.\n",
      "\n",
      "The query time on average across the query set about true jaccard similarity is 2.901 milliseconds.\n",
      "\n"
     ]
    }
   ],
   "source": [
    "print('The query time on average across the query set about estimated jaccard similarity when k = 2 is {:.3f} milliseconds.\\n'.format(time_consuming_EK2_AVG ))\n",
    "print('The query time on average across the query set about estimated jaccard similarity when k = 4 is {:.3f} milliseconds.\\n'.format(time_consuming_EK4_AVG ))\n",
    "print('The query time on average across the query set about estimated jaccard similarity when k = 8 is {:.3f} milliseconds.\\n'.format(time_consuming_EK8_AVG ))\n",
    "print('The query time on average across the query set about estimated jaccard similarity when k = 16 is {:.3f} milliseconds.\\n'.format(time_consuming_EK16_AVG ))\n",
    "\n",
    "print('The query time on average across the query set about true jaccard similarity is {:.3f} milliseconds.\\n'.format(time_consuming_TK_AVG ))"
   ]
  }
 ],
 "metadata": {
  "kernelspec": {
   "display_name": "Python 3 (ipykernel)",
   "language": "python",
   "name": "python3"
  },
  "language_info": {
   "codemirror_mode": {
    "name": "ipython",
    "version": 3
   },
   "file_extension": ".py",
   "mimetype": "text/x-python",
   "name": "python",
   "nbconvert_exporter": "python",
   "pygments_lexer": "ipython3",
   "version": "3.11.4"
  }
 },
 "nbformat": 4,
 "nbformat_minor": 5
}
